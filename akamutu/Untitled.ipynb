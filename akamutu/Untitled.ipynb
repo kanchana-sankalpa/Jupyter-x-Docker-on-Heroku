{
 "cells": [
  {
   "cell_type": "code",
   "execution_count": 12,
   "id": "b28930ff-51de-4f33-b4ce-8d731efd9fd5",
   "metadata": {},
   "outputs": [],
   "source": [
    "#@title Default title text\n",
    "import requests  # Import the requests library\n",
    "import pandas as pd\n",
    "import matplotlib.pyplot as plt\n",
    "import matplotlib as mpl\n",
    "#import seaborn as sns\n",
    "# Query URL\n",
    "\n"
   ]
  },
  {
   "cell_type": "code",
   "execution_count": 13,
   "id": "a5dc61b7-a0f4-4311-8343-1ffc4511d4d5",
   "metadata": {},
   "outputs": [
    {
     "name": "stdout",
     "output_type": "stream",
     "text": [
      "http://localhost:5000\n",
      "E:\\Github\\jupyterlab\n"
     ]
    }
   ],
   "source": [
    "import os\n",
    "from dotenv import load_dotenv, find_dotenv\n",
    "#from pathlib import Path\n",
    "\n",
    "#env_path = Path('.') / '.env'\n",
    "#load_dotenv(dotenv_path=env_path)\n",
    "\n",
    "load_dotenv() # add this line\n",
    "\n",
    "ACCESS_CODE = os.getenv('REQUEST')\n",
    "print(ACCESS_CODE)\n",
    "\n",
    "#current dir\n",
    "cwd = os.path.abspath('')\n",
    "print(cwd)"
   ]
  },
  {
   "cell_type": "code",
   "execution_count": 14,
   "id": "46ae2571-e05a-4b9e-8d18-28e2e1a32d21",
   "metadata": {
    "tags": [
     "remove-input"
    ]
   },
   "outputs": [
    {
     "name": "stdout",
     "output_type": "stream",
     "text": [
      "http://localhost:5000/api/districtstotal?startdate=2021-08-31&enddate=2021-09-31\n",
      "Request returned 200 : 'OK'\n"
     ]
    }
   ],
   "source": [
    "url = ('http://localhost:5000/api/districtstotal?startdate=2021-08-31&enddate=2021-09-31')\n",
    "print(url)\n",
    "response = requests.get(url)  # Make a GET request to the URL\n",
    "# Print status code (and associated text)\n",
    "print(f\"Request returned {response.status_code} : '{response.reason}'\")\n",
    "# Print data returned (parsing as JSON)\n",
    "payload = response.json()  # Parse `response.text` into JSON\n",
    "#print(payload)"
   ]
  },
  {
   "cell_type": "code",
   "execution_count": 15,
   "id": "d2d50119-a23f-48eb-bbc7-665cca85bd7c",
   "metadata": {},
   "outputs": [
    {
     "data": {
      "text/html": [
       "<style>.toggle-button { display :none !important; }</style>"
      ],
      "text/plain": [
       "<IPython.core.display.HTML object>"
      ]
     },
     "metadata": {},
     "output_type": "display_data"
    },
    {
     "data": {
      "text/html": [
       "<style>.toggle-button-hidden { display :none !important; }</style>"
      ],
      "text/plain": [
       "<IPython.core.display.HTML object>"
      ]
     },
     "metadata": {},
     "output_type": "display_data"
    },
    {
     "data": {
      "text/html": [
       "<style>.button.toggle-button  { display :none !important; }</style>"
      ],
      "text/plain": [
       "<IPython.core.display.HTML object>"
      ]
     },
     "metadata": {},
     "output_type": "display_data"
    },
    {
     "data": {
      "text/html": [
       "<style>.fas fa-download { display :none !important; }</style>"
      ],
      "text/plain": [
       "<IPython.core.display.HTML object>"
      ]
     },
     "metadata": {},
     "output_type": "display_data"
    }
   ],
   "source": [
    "from IPython.core.display import display, HTML\n",
    "display(HTML(\"<style>.toggle-button { display :none !important; }</style>\"))\n",
    "display(HTML(\"<style>.toggle-button-hidden { display :none !important; }</style>\"))\n",
    "display(HTML(\"<style>.button.toggle-button  { display :none !important; }</style>\"))\n",
    "display(HTML(\"<style>.fas fa-download { display :none !important; }</style>\"))\n",
    "\n"
   ]
  },
  {
   "cell_type": "code",
   "execution_count": 16,
   "id": "69a2eca2-c9ac-49fe-be16-25f92c7a3e87",
   "metadata": {},
   "outputs": [
    {
     "name": "stdout",
     "output_type": "stream",
     "text": [
      "Dataset feactched as selected dataframe\n"
     ]
    }
   ],
   "source": [
    "data=pd.json_normalize(payload['data'])\n",
    "data.to_csv('file_name.csv')\n",
    "selected=data[[\"datetext\", \"counttext\",\"location.formattedAddress\"]]\n",
    "print('Dataset feactched as selected dataframe')\n",
    "#print(selected)\n",
    "#list(selected.columns.values)"
   ]
  },
  {
   "cell_type": "code",
   "execution_count": null,
   "id": "1da6aed9",
   "metadata": {},
   "outputs": [],
   "source": [
    "from IPython.display import HTML\n",
    "import base64  \n",
    "import pandas as pd  \n",
    "\n",
    "def create_download_link( df, title = \"Download CSV file\", filename = \"data.csv\"):  \n",
    "    csv = df.to_csv(index =False)\n",
    "    b64 = base64.b64encode(csv.encode())\n",
    "    payload = b64.decode()\n",
    "    html = '<a download=\"{filename}\" href=\"data:text/csv;base64,{payload}\" target=\"_blank\">{title}</a>'\n",
    "    html = html.format(payload=payload,title=title,filename=filename)\n",
    "    return HTML(html)\n",
    "\n",
    "df = pd.DataFrame()   \n",
    "create_download_link(df)"
   ]
  },
  {
   "cell_type": "code",
   "execution_count": 17,
   "id": "3ba3bac4-ea96-49dc-8312-2850c9346171",
   "metadata": {},
   "outputs": [
    {
     "name": "stdout",
     "output_type": "stream",
     "text": [
      "By defult Nuwara Eliya District selected\n",
      "For other district select it form the dropdown below >>>\n"
     ]
    },
    {
     "data": {
      "application/vnd.jupyter.widget-view+json": {
       "model_id": "2a4dc61928a74246b742edc7a9ee3f22",
       "version_major": 2,
       "version_minor": 0
      },
      "text/plain": [
       "interactive(children=(Dropdown(description='x', options=('Nuwara Eliya, Sri Lanka', 'Badulla, Sri Lanka', 'Kur…"
      ]
     },
     "metadata": {},
     "output_type": "display_data"
    }
   ],
   "source": [
    "filtedVals= selected[selected['location.formattedAddress'].str.contains('Nuwara Eliya, Sri Lanka')]\n",
    "print('By defult Nuwara Eliya District selected')\n",
    "print('For other district select it form the dropdown below >>>')\n",
    "\n",
    "\n",
    "from ipywidgets import interact, interactive, fixed, interact_manual\n",
    "import ipywidgets as widgets\n",
    "\n",
    "def f(x):\n",
    "    print(\"District changed to %s\" % x)\n",
    "    filtedVals=selected[selected['location.formattedAddress'].str.contains(x)]\n",
    "    print(filtedVals)\n",
    "    pivoted = pd.DataFrame(filtedVals.pivot_table(values='counttext', index='datetext', columns='location.formattedAddress', aggfunc='sum'))\n",
    "    return pivoted\n",
    "\n",
    "interact(f, x=['Nuwara Eliya, Sri Lanka', 'Badulla, Sri Lanka', 'Kurunegala, Sri Lanka']);\n",
    "\n"
   ]
  },
  {
   "cell_type": "code",
   "execution_count": null,
   "id": "08bc7708-a6ac-4d77-95f5-75a1ec848664",
   "metadata": {},
   "outputs": [],
   "source": []
  },
  {
   "cell_type": "code",
   "execution_count": null,
   "id": "a98328f4-eddc-47a9-839d-fe9b466a97be",
   "metadata": {},
   "outputs": [],
   "source": []
  }
 ],
 "metadata": {
  "kernelspec": {
   "display_name": "Python 3 (ipykernel)",
   "language": "python",
   "name": "python3"
  },
  "language_info": {
   "codemirror_mode": {
    "name": "ipython",
    "version": 3
   },
   "file_extension": ".py",
   "mimetype": "text/x-python",
   "name": "python",
   "nbconvert_exporter": "python",
   "pygments_lexer": "ipython3",
   "version": "3.10.0"
  }
 },
 "nbformat": 4,
 "nbformat_minor": 5
}
